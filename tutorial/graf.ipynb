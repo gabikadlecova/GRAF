{
 "cells": [
  {
   "cell_type": "markdown",
   "metadata": {},
   "source": [
    "Intro, what is GRAF, why NASLib wrapper, main features"
   ]
  },
  {
   "cell_type": "code",
   "execution_count": null,
   "metadata": {},
   "outputs": [],
   "source": [
    "\"\"\"\n",
    "# clone a NASLib fork that supports python 3.11\n",
    "!git clone -b automl-conf-24 --single-branch git@github.com:gabikadlecova/NASLib.git\n",
    "\n",
    "# install NASLib\n",
    "%cd NASLib\n",
    "%pip install -e .\n",
    "# %pip install ConfigSpace==0.6 --quiet\n",
    "%cd ..\n",
    "\"\"\"\n",
    "\n",
    "# download dataset apis and NAS-Bench-Suite Zero data\n",
    "\"\"\"\n",
    "%cd /content/NASLib\n",
    "!source scripts/bash_scripts/download_benchmarks.sh nb201 cifar10\n",
    "# !source scripts/bash_scripts/download_benchmarks.sh nb201 cifar100\n",
    "# !source scripts/bash_scripts/download_benchmarks.sh nb201 ImageNet16-120\n",
    "# !source scripts/bash_scripts/download_benchmarks.sh nb301 cifar10\n",
    "# !source scripts/zc/bash_scripts/download_nbs_zero.sh nb101\n",
    "!source scripts/zc/bash_scripts/download_nbs_zero.sh nb201\n",
    "# !source scripts/zc/bash_scripts/download_nbs_zero.sh nb301\n",
    "\"\"\""
   ]
  },
  {
   "cell_type": "code",
   "execution_count": null,
   "metadata": {},
   "outputs": [],
   "source": [
    "\"\"\"\n",
    "!git clone git@github.com:gabikadlecova/GRAF.git\n",
    "%cd GRAF\n",
    "%pip install -e .\n",
    "%cd ..\n",
    "\"\"\""
   ]
  },
  {
   "cell_type": "markdown",
   "metadata": {},
   "source": [
    "## Search spaces"
   ]
  },
  {
   "cell_type": "code",
   "execution_count": 1,
   "metadata": {},
   "outputs": [],
   "source": [
    "# ------ Setup ------ #\n",
    "benchmark = 'nb201'\n",
    "dataset = 'cifar10'\n",
    "\n",
    "feature_cfg = '../graf_nas/configs/nb201.json'\n",
    "\n",
    "naslib_path = '../../zero_cost/NASLib'"
   ]
  },
  {
   "cell_type": "code",
   "execution_count": 2,
   "metadata": {},
   "outputs": [
    {
     "name": "stdout",
     "output_type": "stream",
     "text": [
      "Network:  (2, 0, 0, 2, 0, 2)\n",
      "Edges:  {(1, 2): 2, (1, 3): 0, (1, 4): 0, (2, 3): 2, (2, 4): 0, (3, 4): 2}\n",
      "Ops:  {0: 'skip_connect', 1: 'none', 2: 'nor_conv_3x3', 3: 'nor_conv_1x1', 4: 'avg_pool_3x3'}\n",
      "Networkx graph:  DiGraph with 4 nodes and 6 edges\n"
     ]
    }
   ],
   "source": [
    "from graf_nas.search_space import NB201\n",
    "\n",
    "net = '(2, 0, 0, 2, 0, 2)'  # a network with 3 sequential 3x3 conv-bn-relu, and skip-connections between them\n",
    "\n",
    "# unified representation of architectures from a search space\n",
    "network = NB201(net, cache_model=True)\n",
    "print(\"Network: \", network.net)\n",
    "\n",
    "# the network can be converted to a graph\n",
    "graph = network.to_graph()\n",
    "print(\"Edges: \", graph.edges)\n",
    "print(\"Ops: \", graph.ops)\n",
    "print(\"Networkx graph: \", graph.to_graph())\n"
   ]
  },
  {
   "cell_type": "code",
   "execution_count": 3,
   "metadata": {},
   "outputs": [
    {
     "name": "stdout",
     "output_type": "stream",
     "text": [
      "NasBench201SearchSpace named 'makrograph' with 20 nodes and 19 edges\n",
      "Is it torch.nn.Module:  True\n"
     ]
    },
    {
     "data": {
      "text/plain": [
       "tensor([[ 0.0585,  0.3060,  0.2005, -0.1932,  0.2344,  0.6175, -0.4376, -0.1304,\n",
       "          0.1565,  0.0720]], grad_fn=<AddmmBackward0>)"
      ]
     },
     "execution_count": 3,
     "metadata": {},
     "output_type": "execute_result"
    }
   ],
   "source": [
    "import torch\n",
    "\n",
    "# you can convert the network to a parsed NASLib object\n",
    "model = network.get_model()\n",
    "print(model)\n",
    "\n",
    "# it is a PyTorch model\n",
    "print(\"Is it torch.nn.Module: \", isinstance(model, torch.nn.Module))\n",
    "\n",
    "model(torch.randn(1, 3, 32, 32))  # you can directly pass data to the model"
   ]
  },
  {
   "cell_type": "code",
   "execution_count": 4,
   "metadata": {},
   "outputs": [
    {
     "data": {
      "text/plain": [
       "'(0, 0, 0, 0, 0, 0)'"
      ]
     },
     "execution_count": 4,
     "metadata": {},
     "output_type": "execute_result"
    }
   ],
   "source": [
    "from graf_nas.search_space import searchspace_classes, dataset_api_maps\n",
    "from naslib.utils import get_dataset_api\n",
    "\n",
    "# you can also get the NB201 class by indexing the searchspace_classes dictionary\n",
    "net_cls = searchspace_classes[benchmark]\n",
    "\n",
    "# the class itself supports iterating over all architectures in the search space (you need to download NASLib dataset api - done at the start of the doc)\n",
    "dataset_api = get_dataset_api(search_space=dataset_api_maps[benchmark], dataset=dataset)\n",
    "net_iterator = net_cls.get_arch_iterator(dataset_api)\n",
    "\n",
    "next(iter(net_iterator)).net"
   ]
  },
  {
   "cell_type": "markdown",
   "metadata": {},
   "source": [
    "## zero-cost proxies"
   ]
  },
  {
   "cell_type": "code",
   "execution_count": 5,
   "metadata": {},
   "outputs": [
    {
     "name": "stdout",
     "output_type": "stream",
     "text": [
      "Available NASLib zero-cost proxies:  ['grad_norm', 'snip', 'grasp', 'fisher', 'jacov', 'plain', 'synflow_bn', 'synflow', 'epe_nas', 'zen', 'l2_norm', 'nwot']\n",
      "Files already downloaded and verified\n",
      "Files already downloaded and verified\n",
      "synflow\n",
      "111.83579934901714\n"
     ]
    }
   ],
   "source": [
    "# GRAF support easy computation of all zero-cost proxies in NAS-Bench-Suite Zero (and also extension with new ones)\n",
    "import os\n",
    "from graf_nas.features.zero_cost import get_zcp_predictor, get_zcp_dataloader, available_measures\n",
    "\n",
    "print('Available NASLib zero-cost proxies: ', available_measures)\n",
    "\n",
    "# You need to download the data loader for ZCP computation\n",
    "dataloader = get_zcp_dataloader(dataset=dataset, zc_cfg=os.path.join(naslib_path, 'naslib/runners/zc/zc_config.yaml'), data=naslib_path)\n",
    "\n",
    "# You can get a predictor for a specific zero-cost proxy\n",
    "predictor = get_zcp_predictor('synflow', dataloader=dataloader)\n",
    "print(predictor)\n",
    "\n",
    "# using the PyTorch model from previous cells, compute the synflow score! (you might want to change to the GPU runtime)\n",
    "print(predictor(model))"
   ]
  },
  {
   "cell_type": "markdown",
   "metadata": {},
   "source": [
    "## Neural Graph features"
   ]
  },
  {
   "cell_type": "code",
   "execution_count": 6,
   "metadata": {},
   "outputs": [
    {
     "name": "stdout",
     "output_type": "stream",
     "text": [
      "[{'name': 'op_count'},\n",
      " {'name': 'min_path_len',\n",
      "  'allowed': ['skip_connect',\n",
      "              'none',\n",
      "              'nor_conv_3x3',\n",
      "              'nor_conv_1x1',\n",
      "              'avg_pool_3x3']},\n",
      " {'name': 'max_op_on_path',\n",
      "  'allowed': ['skip_connect',\n",
      "              'none',\n",
      "              'nor_conv_3x3',\n",
      "              'nor_conv_1x1',\n",
      "              'avg_pool_3x3']},\n",
      " {'name': 'node_degree',\n",
      "  'allowed': ['skip_connect',\n",
      "              'none',\n",
      "              'nor_conv_3x3',\n",
      "              'nor_conv_1x1',\n",
      "              'avg_pool_3x3']}]\n"
     ]
    }
   ],
   "source": [
    "import json\n",
    "import pprint\n",
    "\n",
    "# represented by a config\n",
    "with open(feature_cfg, 'r') as f:\n",
    "    cfg = json.load(f)\n",
    "\n",
    "# This config contains 4 features - operation counts, min path length, max path length, and node degrees\n",
    "pprint.pprint(cfg, sort_dicts=False)"
   ]
  },
  {
   "cell_type": "code",
   "execution_count": 20,
   "metadata": {},
   "outputs": [
    {
     "name": "stdout",
     "output_type": "stream",
     "text": [
      "[<graf_nas.features.base.Feature object at 0x7facb9de1990>, <graf_nas.features.base.ConstrainedFeature object at 0x7faca756d210>]\n",
      "\n",
      "['op_count', 'min_path_len_(none)', 'min_path_len_(nor_conv_1x1)', 'min_path_len_(skip_connect,none)', 'min_path_len_(skip_connect,nor_conv_1x1)']\n"
     ]
    }
   ],
   "source": [
    "from graf_nas.features.config import load_from_config\n",
    "\n",
    "# the features from the config are loaded as a list of objects\n",
    "features = load_from_config(cfg, benchmark)\n",
    "print(features[:2])\n",
    "print()\n",
    "\n",
    "# these represent graf features limited to a subset of the operation set\n",
    "print([str(f) for f in features[:10:2]])"
   ]
  },
  {
   "cell_type": "code",
   "execution_count": 30,
   "metadata": {},
   "outputs": [
    {
     "name": "stdout",
     "output_type": "stream",
     "text": [
      "Computing min_path_len_(skip_connect) for the following network:\n",
      "{(1, 2): 'nor_conv_3x3', (1, 3): 'skip_connect', (1, 4): 'skip_connect', (2, 3): 'nor_conv_3x3', (2, 4): 'skip_connect', (3, 4): 'nor_conv_3x3'}\n",
      "\n",
      "Result:  1\n"
     ]
    }
   ],
   "source": [
    "some_feat = features[1]\n",
    "\n",
    "print(f\"Computing {some_feat} for the following network:\")\n",
    "print({k: graph.ops[v] for k, v in graph.edges.items()})\n",
    "print()\n",
    "\n",
    "print(\"Result: \", some_feat(graph))  # you can compute the features for a network graph"
   ]
  },
  {
   "cell_type": "markdown",
   "metadata": {},
   "source": [
    "## GRAF - easy computation of ZCP and features"
   ]
  },
  {
   "cell_type": "code",
   "execution_count": null,
   "metadata": {},
   "outputs": [],
   "source": []
  },
  {
   "cell_type": "code",
   "execution_count": null,
   "metadata": {},
   "outputs": [],
   "source": [
    "# TODO load ZCPs in DataFrame / via func in NB Suite Zero"
   ]
  }
 ],
 "metadata": {
  "kernelspec": {
   "display_name": "envo",
   "language": "python",
   "name": "python3"
  },
  "language_info": {
   "codemirror_mode": {
    "name": "ipython",
    "version": 3
   },
   "file_extension": ".py",
   "mimetype": "text/x-python",
   "name": "python",
   "nbconvert_exporter": "python",
   "pygments_lexer": "ipython3",
   "version": "3.11.8"
  }
 },
 "nbformat": 4,
 "nbformat_minor": 2
}
