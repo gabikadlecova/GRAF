{
 "cells": [
  {
   "cell_type": "markdown",
   "metadata": {},
   "source": [
    "Intro, what is GRAF, why NASLib wrapper, main features"
   ]
  },
  {
   "cell_type": "code",
   "execution_count": null,
   "metadata": {},
   "outputs": [],
   "source": [
    "\"\"\"\n",
    "# clone a NASLib fork that supports python 3.11\n",
    "!git clone -b automl-conf-24 --single-branch git@github.com:gabikadlecova/NASLib.git\n",
    "\n",
    "# install NASLib\n",
    "%cd NASLib\n",
    "%pip install -e .\n",
    "# %pip install ConfigSpace==0.6 --quiet\n",
    "%cd ..\n",
    "\"\"\"\n",
    "\n",
    "# download dataset apis and NAS-Bench-Suite Zero data\n",
    "\"\"\"\n",
    "%cd /content/NASLib\n",
    "!source scripts/bash_scripts/download_benchmarks.sh nb201 cifar10\n",
    "# !source scripts/bash_scripts/download_benchmarks.sh nb201 cifar100\n",
    "# !source scripts/bash_scripts/download_benchmarks.sh nb201 ImageNet16-120\n",
    "# !source scripts/bash_scripts/download_benchmarks.sh nb301 cifar10\n",
    "# !source scripts/zc/bash_scripts/download_nbs_zero.sh nb101\n",
    "!source scripts/zc/bash_scripts/download_nbs_zero.sh nb201\n",
    "# !source scripts/zc/bash_scripts/download_nbs_zero.sh nb301\n",
    "\"\"\""
   ]
  },
  {
   "cell_type": "code",
   "execution_count": null,
   "metadata": {},
   "outputs": [],
   "source": [
    "\"\"\"\n",
    "!git clone git@github.com:gabikadlecova/GRAF.git\n",
    "%cd GRAF\n",
    "%pip install -e .\n",
    "%cd ..\n",
    "\"\"\""
   ]
  },
  {
   "cell_type": "code",
   "execution_count": 46,
   "metadata": {},
   "outputs": [],
   "source": [
    "# ------ Setup ------ #\n",
    "benchmark = 'nb201'\n",
    "dataset = 'cifar10'\n",
    "\n",
    "feature_cfg = '../graf_nas/configs/nb201.json'\n",
    "\n",
    "naslib_path = '../../zero_cost/NASLib'"
   ]
  },
  {
   "cell_type": "code",
   "execution_count": null,
   "metadata": {},
   "outputs": [],
   "source": []
  },
  {
   "cell_type": "markdown",
   "metadata": {},
   "source": [
    "# 0. Introduction to the GRAF library\n",
    "\n",
    "Enables computation of zero-cost proxies, working with the neural graph etc\n",
    "\n",
    "Wrapper round NASLib, but extensible to user defined search spaces and zero-cost proxies. No support for GNN input encoding etc. - NASLib\n",
    "is still more powerful (this is just to enable easy analysis of ZCP and integration with other systems)\n",
    "\n",
    "Easy integration with simple performance predictors."
   ]
  },
  {
   "cell_type": "code",
   "execution_count": null,
   "metadata": {},
   "outputs": [],
   "source": []
  },
  {
   "cell_type": "markdown",
   "metadata": {},
   "source": [
    "## Search spaces"
   ]
  },
  {
   "cell_type": "code",
   "execution_count": 1,
   "metadata": {},
   "outputs": [
    {
     "name": "stdout",
     "output_type": "stream",
     "text": [
      "Network:  (2, 0, 0, 2, 0, 2)\n",
      "Edges:  {(1, 2): 2, (1, 3): 0, (1, 4): 0, (2, 3): 2, (2, 4): 0, (3, 4): 2}\n",
      "Ops:  {0: 'skip_connect', 1: 'none', 2: 'nor_conv_3x3', 3: 'nor_conv_1x1', 4: 'avg_pool_3x3'}\n",
      "Networkx graph:  DiGraph with 4 nodes and 6 edges\n"
     ]
    }
   ],
   "source": [
    "from graf_nas.search_space import NB201\n",
    "\n",
    "net = '(2, 0, 0, 2, 0, 2)'  # a network with 3 sequential 3x3 conv-bn-relu, and skip-connections between them\n",
    "\n",
    "# unified representation of architectures from a search space\n",
    "network = NB201(net, cache_model=True)\n",
    "print(\"Network: \", network.net)\n",
    "\n",
    "# the network can be converted to a graph\n",
    "graph = network.to_graph()\n",
    "print(\"Edges: \", graph.edges)\n",
    "print(\"Ops: \", graph.ops)\n",
    "print(\"Networkx graph: \", graph.to_graph())\n"
   ]
  },
  {
   "cell_type": "code",
   "execution_count": 2,
   "metadata": {},
   "outputs": [
    {
     "name": "stdout",
     "output_type": "stream",
     "text": [
      "NasBench201SearchSpace named 'makrograph' with 20 nodes and 19 edges\n",
      "Is it torch.nn.Module:  True\n"
     ]
    },
    {
     "data": {
      "text/plain": [
       "tensor([[-0.0026, -0.0248,  0.1126,  0.1976, -0.1839, -0.0226,  0.1574,  0.2459,\n",
       "          0.2547, -0.0132]], grad_fn=<AddmmBackward0>)"
      ]
     },
     "execution_count": 2,
     "metadata": {},
     "output_type": "execute_result"
    }
   ],
   "source": [
    "import torch\n",
    "\n",
    "# you can convert the network to a parsed NASLib object\n",
    "model = network.get_model()\n",
    "print(model)\n",
    "\n",
    "# it is a PyTorch model\n",
    "print(\"Is it torch.nn.Module: \", isinstance(model, torch.nn.Module))\n",
    "\n",
    "model(torch.randn(1, 3, 32, 32))  # you can directly pass data to the model"
   ]
  },
  {
   "cell_type": "code",
   "execution_count": null,
   "metadata": {},
   "outputs": [
    {
     "data": {
      "text/plain": [
       "'(0, 0, 0, 0, 0, 0)'"
      ]
     },
     "execution_count": 21,
     "metadata": {},
     "output_type": "execute_result"
    }
   ],
   "source": [
    "from graf_nas.search_space import searchspace_classes, dataset_api_maps\n",
    "from naslib.utils import get_dataset_api\n",
    "\n",
    "# you can also get the NB201 class by indexing the searchspace_classes dictionary\n",
    "net_cls = searchspace_classes[benchmark]\n",
    "\n",
    "# the class itself supports iterating over all architectures in the search space (you need to download NASLib dataset api - done at the start of the doc)\n",
    "dataset_api = get_dataset_api(search_space=dataset_api_maps[benchmark], dataset=dataset)\n",
    "net_iterator = net_cls.get_arch_iterator(dataset_api)\n",
    "\n",
    "next(iter(net_iterator)).net"
   ]
  },
  {
   "cell_type": "markdown",
   "metadata": {},
   "source": [
    "## Zero-cost proxies"
   ]
  },
  {
   "cell_type": "code",
   "execution_count": 5,
   "metadata": {},
   "outputs": [
    {
     "name": "stdout",
     "output_type": "stream",
     "text": [
      "Available NASLib zero-cost proxies:  ['grad_norm', 'snip', 'grasp', 'fisher', 'jacov', 'plain', 'synflow_bn', 'synflow', 'epe_nas', 'zen', 'l2_norm', 'nwot']\n",
      "Files already downloaded and verified\n",
      "Files already downloaded and verified\n",
      "synflow\n",
      "111.84541218759227\n"
     ]
    }
   ],
   "source": [
    "# GRAF support easy computation of all zero-cost proxies in NAS-Bench-Suite Zero (and also extension with new ones)\n",
    "import os\n",
    "from graf_nas.features.zero_cost import get_zcp_predictor, get_zcp_dataloader, available_measures\n",
    "\n",
    "print('Available NASLib zero-cost proxies: ', available_measures)\n",
    "\n",
    "# You need to download the data loader for ZCP computation\n",
    "dataloader = get_zcp_dataloader(dataset=dataset, zc_cfg=os.path.join(naslib_path, 'naslib/runners/zc/zc_config.yaml'), data=naslib_path)\n",
    "\n",
    "# You can get a predictor for a specific zero-cost proxy\n",
    "predictor = get_zcp_predictor('synflow', dataloader=dataloader)\n",
    "print(predictor)\n",
    "\n",
    "# using the PyTorch model from previous cells, compute the synflow score! (you might want to change to the GPU runtime)\n",
    "print(predictor(model))"
   ]
  },
  {
   "cell_type": "markdown",
   "metadata": {},
   "source": [
    "## Neural Graph features"
   ]
  },
  {
   "cell_type": "code",
   "execution_count": 4,
   "metadata": {},
   "outputs": [
    {
     "name": "stdout",
     "output_type": "stream",
     "text": [
      "[{'name': 'op_count'},\n",
      " {'name': 'min_path_len',\n",
      "  'allowed': ['skip_connect',\n",
      "              'none',\n",
      "              'nor_conv_3x3',\n",
      "              'nor_conv_1x1',\n",
      "              'avg_pool_3x3']},\n",
      " {'name': 'max_op_on_path',\n",
      "  'allowed': ['skip_connect',\n",
      "              'none',\n",
      "              'nor_conv_3x3',\n",
      "              'nor_conv_1x1',\n",
      "              'avg_pool_3x3']},\n",
      " {'name': 'node_degree',\n",
      "  'allowed': ['skip_connect',\n",
      "              'none',\n",
      "              'nor_conv_3x3',\n",
      "              'nor_conv_1x1',\n",
      "              'avg_pool_3x3']}]\n"
     ]
    }
   ],
   "source": [
    "import json\n",
    "import pprint\n",
    "\n",
    "# represented by a config\n",
    "with open(feature_cfg, 'r') as f:\n",
    "    cfg = json.load(f)\n",
    "\n",
    "# This config contains 4 features - operation counts, min path length, max path length, and node degrees\n",
    "pprint.pprint(cfg, sort_dicts=False)"
   ]
  },
  {
   "cell_type": "code",
   "execution_count": 5,
   "metadata": {},
   "outputs": [
    {
     "name": "stdout",
     "output_type": "stream",
     "text": [
      "[<graf_nas.features.base.Feature object at 0x7f9db5634310>, <graf_nas.features.base.ConstrainedFeature object at 0x7f9c9c3eb150>]\n",
      "\n",
      "['op_count', 'min_path_len_(none)', 'min_path_len_(nor_conv_1x1)', 'min_path_len_(skip_connect,none)', 'min_path_len_(skip_connect,nor_conv_1x1)']\n"
     ]
    }
   ],
   "source": [
    "from graf_nas.features.config import load_from_config\n",
    "\n",
    "# the features from the config are loaded as a list of objects\n",
    "features = load_from_config(cfg, benchmark)\n",
    "print(features[:2])\n",
    "print()\n",
    "\n",
    "# these represent graf features limited to a subset of the operation set\n",
    "print([str(f) for f in features[:10:2]])"
   ]
  },
  {
   "cell_type": "code",
   "execution_count": 6,
   "metadata": {},
   "outputs": [
    {
     "name": "stdout",
     "output_type": "stream",
     "text": [
      "Computing min_path_len_(skip_connect) for the following network:\n",
      "{(1, 2): 'nor_conv_3x3', (1, 3): 'skip_connect', (1, 4): 'skip_connect', (2, 3): 'nor_conv_3x3', (2, 4): 'skip_connect', (3, 4): 'nor_conv_3x3'}\n",
      "\n",
      "Result:  1\n"
     ]
    }
   ],
   "source": [
    "some_feat = features[1]\n",
    "\n",
    "print(f\"Computing {some_feat} for the following network:\")\n",
    "print({k: graph.ops[v] for k, v in graph.edges.items()})\n",
    "print()\n",
    "\n",
    "print(\"Result: \", some_feat(graph))  # you can compute the features for a network graph"
   ]
  },
  {
   "cell_type": "markdown",
   "metadata": {},
   "source": [
    "# 1. Zero-cost proxy biases"
   ]
  },
  {
   "cell_type": "code",
   "execution_count": 47,
   "metadata": {},
   "outputs": [],
   "source": [
    "import json\n",
    "import os\n",
    "from graf_nas.features.zero_cost import parse_scores\n",
    "\n",
    "# load NAS-Bench-Suite Zero data for NB201\n",
    "with open(os.path.join(naslib_path, 'naslib/data/zc_nasbench201.json'), 'r') as f:\n",
    "    zc_data = json.load(f)\n",
    "\n",
    "# convert it to DataFrame for easier analysis of the whole search space\n",
    "zc_dataframe = parse_scores(zc_data, dataset)"
   ]
  },
  {
   "cell_type": "code",
   "execution_count": 21,
   "metadata": {},
   "outputs": [
    {
     "name": "stdout",
     "output_type": "stream",
     "text": [
      "Before removal:  15625\n",
      "After removal:  9445\n"
     ]
    }
   ],
   "source": [
    "from graf_nas.search_space.reduntant import remove_zero_branches\n",
    "\n",
    "# the NB201 benchmark contains networks with unreachable operations due to zero ops\n",
    "# let's remove them - they skew the zero-cost proxy analysis\n",
    "new_index = []\n",
    "zero_op = 1\n",
    "\n",
    "for net in zc_dataframe.index:\n",
    "    graph = NB201(net).to_graph()\n",
    "    \n",
    "    # skip if networks contains unreachable operations - this function zeroed them out\n",
    "    new_graph = remove_zero_branches(graph, zero_op=zero_op)\n",
    "    if new_graph.edges != graph.edges:\n",
    "        continue\n",
    "\n",
    "    new_index.append(net)\n",
    "\n",
    "print('Before removal: ', len(zc_dataframe))\n",
    "zc_dataframe = zc_dataframe.loc[new_index].copy()\n",
    "print('After removal: ', len(zc_dataframe))"
   ]
  },
  {
   "cell_type": "code",
   "execution_count": 22,
   "metadata": {},
   "outputs": [
    {
     "data": {
      "text/html": [
       "<div>\n",
       "<style scoped>\n",
       "    .dataframe tbody tr th:only-of-type {\n",
       "        vertical-align: middle;\n",
       "    }\n",
       "\n",
       "    .dataframe tbody tr th {\n",
       "        vertical-align: top;\n",
       "    }\n",
       "\n",
       "    .dataframe thead th {\n",
       "        text-align: right;\n",
       "    }\n",
       "</style>\n",
       "<table border=\"1\" class=\"dataframe\">\n",
       "  <thead>\n",
       "    <tr style=\"text-align: right;\">\n",
       "      <th></th>\n",
       "      <th>val_accs</th>\n",
       "      <th>epe_nas</th>\n",
       "      <th>fisher</th>\n",
       "      <th>flops</th>\n",
       "      <th>grad_norm</th>\n",
       "      <th>grasp</th>\n",
       "      <th>jacov</th>\n",
       "      <th>l2_norm</th>\n",
       "      <th>nwot</th>\n",
       "      <th>params</th>\n",
       "      <th>plain</th>\n",
       "      <th>snip</th>\n",
       "      <th>synflow</th>\n",
       "      <th>zen</th>\n",
       "    </tr>\n",
       "    <tr>\n",
       "      <th>net</th>\n",
       "      <th></th>\n",
       "      <th></th>\n",
       "      <th></th>\n",
       "      <th></th>\n",
       "      <th></th>\n",
       "      <th></th>\n",
       "      <th></th>\n",
       "      <th></th>\n",
       "      <th></th>\n",
       "      <th></th>\n",
       "      <th></th>\n",
       "      <th></th>\n",
       "      <th></th>\n",
       "      <th></th>\n",
       "    </tr>\n",
       "  </thead>\n",
       "  <tbody>\n",
       "    <tr>\n",
       "      <th>(4, 0, 3, 1, 4, 3)</th>\n",
       "      <td>84.99</td>\n",
       "      <td>1283.299108</td>\n",
       "      <td>0.036440</td>\n",
       "      <td>19.248832</td>\n",
       "      <td>10.883215</td>\n",
       "      <td>0.244735</td>\n",
       "      <td>-88.289871</td>\n",
       "      <td>130.200516</td>\n",
       "      <td>754.684333</td>\n",
       "      <td>0.129306</td>\n",
       "      <td>0.033875</td>\n",
       "      <td>22.923178</td>\n",
       "      <td>44.484811</td>\n",
       "      <td>63.387894</td>\n",
       "    </tr>\n",
       "    <tr>\n",
       "      <th>(2, 4, 0, 0, 3, 2)</th>\n",
       "      <td>90.52</td>\n",
       "      <td>1712.860614</td>\n",
       "      <td>0.023383</td>\n",
       "      <td>85.235392</td>\n",
       "      <td>12.691692</td>\n",
       "      <td>2.205327</td>\n",
       "      <td>-65.193310</td>\n",
       "      <td>180.487396</td>\n",
       "      <td>785.622961</td>\n",
       "      <td>0.587386</td>\n",
       "      <td>0.079539</td>\n",
       "      <td>26.610859</td>\n",
       "      <td>85.295247</td>\n",
       "      <td>119.493332</td>\n",
       "    </tr>\n",
       "    <tr>\n",
       "      <th>(0, 0, 2, 1, 2, 3)</th>\n",
       "      <td>88.32</td>\n",
       "      <td>1892.558689</td>\n",
       "      <td>0.091167</td>\n",
       "      <td>83.945152</td>\n",
       "      <td>24.872454</td>\n",
       "      <td>12.207823</td>\n",
       "      <td>-65.285305</td>\n",
       "      <td>180.934311</td>\n",
       "      <td>788.917398</td>\n",
       "      <td>0.587386</td>\n",
       "      <td>0.077502</td>\n",
       "      <td>51.889561</td>\n",
       "      <td>60.212156</td>\n",
       "      <td>92.669968</td>\n",
       "    </tr>\n",
       "    <tr>\n",
       "      <th>(4, 1, 3, 3, 3, 3)</th>\n",
       "      <td>87.35</td>\n",
       "      <td>1379.897450</td>\n",
       "      <td>0.161322</td>\n",
       "      <td>26.683072</td>\n",
       "      <td>41.271332</td>\n",
       "      <td>23.266205</td>\n",
       "      <td>-78.714333</td>\n",
       "      <td>231.918152</td>\n",
       "      <td>803.910385</td>\n",
       "      <td>0.185306</td>\n",
       "      <td>0.159051</td>\n",
       "      <td>68.328522</td>\n",
       "      <td>55.762511</td>\n",
       "      <td>66.955254</td>\n",
       "    </tr>\n",
       "    <tr>\n",
       "      <th>(3, 1, 2, 3, 2, 3)</th>\n",
       "      <td>88.94</td>\n",
       "      <td>1591.668318</td>\n",
       "      <td>2.919859</td>\n",
       "      <td>92.669632</td>\n",
       "      <td>194.829361</td>\n",
       "      <td>352.838989</td>\n",
       "      <td>-65.193801</td>\n",
       "      <td>283.023499</td>\n",
       "      <td>820.626852</td>\n",
       "      <td>0.643386</td>\n",
       "      <td>0.146713</td>\n",
       "      <td>300.757782</td>\n",
       "      <td>76.735830</td>\n",
       "      <td>103.120293</td>\n",
       "    </tr>\n",
       "  </tbody>\n",
       "</table>\n",
       "</div>"
      ],
      "text/plain": [
       "                    val_accs      epe_nas    fisher      flops   grad_norm       grasp      jacov     l2_norm        nwot    params     plain        snip    synflow         zen\n",
       "net                                                                                                                                                                             \n",
       "(4, 0, 3, 1, 4, 3)     84.99  1283.299108  0.036440  19.248832   10.883215    0.244735 -88.289871  130.200516  754.684333  0.129306  0.033875   22.923178  44.484811   63.387894\n",
       "(2, 4, 0, 0, 3, 2)     90.52  1712.860614  0.023383  85.235392   12.691692    2.205327 -65.193310  180.487396  785.622961  0.587386  0.079539   26.610859  85.295247  119.493332\n",
       "(0, 0, 2, 1, 2, 3)     88.32  1892.558689  0.091167  83.945152   24.872454   12.207823 -65.285305  180.934311  788.917398  0.587386  0.077502   51.889561  60.212156   92.669968\n",
       "(4, 1, 3, 3, 3, 3)     87.35  1379.897450  0.161322  26.683072   41.271332   23.266205 -78.714333  231.918152  803.910385  0.185306  0.159051   68.328522  55.762511   66.955254\n",
       "(3, 1, 2, 3, 2, 3)     88.94  1591.668318  2.919859  92.669632  194.829361  352.838989 -65.193801  283.023499  820.626852  0.643386  0.146713  300.757782  76.735830  103.120293"
      ]
     },
     "execution_count": 22,
     "metadata": {},
     "output_type": "execute_result"
    }
   ],
   "source": [
    "zc_dataframe.head()"
   ]
  },
  {
   "cell_type": "markdown",
   "metadata": {},
   "source": [
    "Let's plot NASWOT (denoted `nwot`) against validation accuracy"
   ]
  },
  {
   "cell_type": "code",
   "execution_count": 23,
   "metadata": {},
   "outputs": [],
   "source": [
    "import matplotlib.pyplot as plt\n",
    "import seaborn as sns\n",
    "sns.set_theme()\n",
    "\n",
    "# ylims per proxy (each has different score ranges and outliers)\n",
    "ylims = {'nwot': (550, 850)}\n",
    "\n",
    "def plt_ylim(prox):\n",
    "    if prox not in ylims:\n",
    "        return\n",
    "    plt.ylim(ylims[prox][0], ylims[prox][1])"
   ]
  },
  {
   "cell_type": "code",
   "execution_count": 24,
   "metadata": {},
   "outputs": [
    {
     "data": {
      "image/png": "[encoded data removed]",
      "text/plain": [
       "<Figure size 640x480 with 1 Axes>"
      ]
     },
     "metadata": {},
     "output_type": "display_data"
    }
   ],
   "source": [
    "proxy = 'nwot'\n",
    "\n",
    "sns.scatterplot(data=zc_dataframe, x='val_accs', y=proxy)\n",
    "#plt.xlim(70, 91)\n",
    "plt_ylim(proxy)\n",
    "plt.show()"
   ]
  },
  {
   "cell_type": "markdown",
   "metadata": {},
   "source": [
    "You can see some clusters forming. We could look at networks from the bottom cluster:"
   ]
  },
  {
   "cell_type": "code",
   "execution_count": 25,
   "metadata": {},
   "outputs": [
    {
     "name": "stdout",
     "output_type": "stream",
     "text": [
      "The meaning of numbers:  {'skip_connect': 0, 'none': 1, 'nor_conv_3x3': 2, 'nor_conv_1x1': 3, 'avg_pool_3x3': 4}\n"
     ]
    },
    {
     "data": {
      "text/plain": [
       "['(4, 0, 0, 4, 4, 4)',\n",
       " '(4, 0, 4, 0, 0, 0)',\n",
       " '(4, 0, 1, 0, 1, 4)',\n",
       " '(4, 4, 1, 4, 4, 4)',\n",
       " '(4, 4, 0, 1, 4, 4)',\n",
       " '(0, 4, 4, 4, 0, 0)']"
      ]
     },
     "execution_count": 25,
     "metadata": {},
     "output_type": "execute_result"
    }
   ],
   "source": [
    "op_map = NB201.get_op_map()\n",
    "print(\"The meaning of numbers: \", op_map)\n",
    "\n",
    "nwot_cluster = zc_dataframe[zc_dataframe[proxy] < 650]\n",
    "nwot_cluster.index[:6].to_list()"
   ]
  },
  {
   "cell_type": "markdown",
   "metadata": {},
   "source": [
    "Seems like there is are no convolutions in the network... Let's compute the number of convs via GRAF and mark the clusters:"
   ]
  },
  {
   "cell_type": "code",
   "execution_count": 26,
   "metadata": {},
   "outputs": [],
   "source": [
    "import pandas as pd\n",
    "\n",
    "n_convs = []\n",
    "op_count_func = features[0]  # run the cells in section 0 for this to work\n",
    "\n",
    "for net in zc_dataframe.index:\n",
    "    op_counts = op_count_func(NB201(net).to_graph())\n",
    "    \n",
    "    conv_1_id, conv_3_id = op_map['nor_conv_1x1'], op_map['nor_conv_3x3']\n",
    "    n_convs.append(op_counts[conv_1_id] + op_counts[conv_3_id])\n",
    "\n",
    "zc_dataframe['n_convs'] = n_convs\n",
    "zc_dataframe['n_convs'] = pd.Categorical(zc_dataframe['n_convs'])"
   ]
  },
  {
   "cell_type": "code",
   "execution_count": 27,
   "metadata": {},
   "outputs": [
    {
     "data": {
      "image/png": "[encoded data removed]",
      "text/plain": [
       "<Figure size 640x480 with 1 Axes>"
      ]
     },
     "metadata": {},
     "output_type": "display_data"
    }
   ],
   "source": [
    "sns.scatterplot(data=zc_dataframe, x='val_accs', y=proxy, hue='n_convs')\n",
    "#plt.xlim(70, 91)\n",
    "plt_ylim(proxy)\n",
    "plt.show()"
   ]
  },
  {
   "cell_type": "markdown",
   "metadata": {},
   "source": [
    "Uh-oh, seems like `nwot` has a high dependency on the number of convolutions! If you analyze the clusters further (exercise), you see that the scores in the clusters also depend on the number of `conv3x3`"
   ]
  },
  {
   "cell_type": "code",
   "execution_count": 30,
   "metadata": {},
   "outputs": [],
   "source": [
    "# ----- optional exercise -----\n",
    "# Analyze one of the clusters (e.g. the one with 3 convolutions)\n",
    "\n",
    "# a) filter DataFrame to get only nets with 3 convs\n",
    "# b) create a column - n_convs_3x3 (use op_counts again)\n",
    "# c) plot the clusters with hue set to n_cobvs_3x3\n",
    "\n",
    "# **** your code ****\n",
    "pass"
   ]
  },
  {
   "cell_type": "markdown",
   "metadata": {},
   "source": [
    "Disclaimer: this happens mostly in NB201, the effect in NB101 is lower, and DARTS does not seem to be affected.\n",
    "\n",
    "Nevertheless, the proxies have the highest score on NB201, and for some of them, these biases are one of the reasons. In other words, both `val_accs` and `nwot` correlate with the number of convolutions."
   ]
  },
  {
   "cell_type": "markdown",
   "metadata": {},
   "source": [
    "### Exercise - plot other proxies / analyze other benchmarks\n",
    "\n",
    "Choose one of the proxies in the dataframe and analyze its relationship to operation count (or perhaps other features).\n",
    "\n",
    "You can also set `benchmark = 'nb101'` and `feature_cfg = graf_nas/configs/nb101.json` and analyze a different search space. The code for downloading `zc_nasbench101.json` is at the top of the notebook (it was commented out to save waiting time)."
   ]
  },
  {
   "cell_type": "code",
   "execution_count": null,
   "metadata": {},
   "outputs": [],
   "source": [
    "from graf_nas.search_space import DARTS, NB101\n",
    "\n",
    "# **** your code ****\n",
    "pass"
   ]
  },
  {
   "cell_type": "markdown",
   "metadata": {},
   "source": [
    "# 2. Performance prediction via GRAF"
   ]
  },
  {
   "cell_type": "markdown",
   "metadata": {},
   "source": [
    "## GRAF - easy computation of ZCP and features"
   ]
  },
  {
   "cell_type": "code",
   "execution_count": 7,
   "metadata": {},
   "outputs": [],
   "source": [
    "from graf_nas.graf import GRAF\n",
    "zcp_names = ['epe_nas', 'fisher', 'flops', 'grad_norm', 'grasp', 'jacov', 'l2_norm', 'nwot', 'params', 'plain', 'snip', 'synflow', 'zen']\n",
    "\n",
    "# GRAF unifies computation of features and zero-cost proxies\n",
    "graf_model = GRAF(benchmark,\n",
    "                  features=features,  # either a list of features, or a path to the config file\n",
    "                  zcp_predictors=zcp_names,  # a list of zero-cost proxy names or predictor objects\n",
    "                  cached_data=zc_dataframe,  # you can use data from NB Suite Zero to avoid ZCP computation\n",
    "                  cache_features=True)  # cache computed features from GRAF"
   ]
  },
  {
   "cell_type": "code",
   "execution_count": 13,
   "metadata": {},
   "outputs": [
    {
     "name": "stdout",
     "output_type": "stream",
     "text": [
      "op_count_0: 3\n",
      "op_count_1: 0\n",
      "op_count_2: 3\n",
      "op_count_3: 0\n",
      "op_count_4: 0\n",
      "min_path_len_(skip_connect): 1\n",
      "min_path_len_(none): 6\n",
      "min_path_len_(nor_conv_3x3): 3\n",
      "...\n"
     ]
    }
   ],
   "source": [
    "feats = graf_model.compute_features(network)  # compute features for a network\n",
    "\n",
    "i = 0\n",
    "for k, v in feats.items():\n",
    "    print(f\"{k}: {v}\")\n",
    "    i += 1\n",
    "    if i > 7:\n",
    "        print('...')\n",
    "        break"
   ]
  },
  {
   "cell_type": "code",
   "execution_count": 14,
   "metadata": {},
   "outputs": [
    {
     "data": {
      "text/plain": [
       "{'epe_nas': 1657.737740511819,\n",
       " 'fisher': 0.009487888775765896,\n",
       " 'flops': 115.402432,\n",
       " 'grad_norm': 9.60776424407959,\n",
       " 'grasp': 0.19346094131469727,\n",
       " 'jacov': -65.20240181876179,\n",
       " 'l2_norm': 180.5452880859375,\n",
       " 'nwot': 785.0347715480094,\n",
       " 'params': 0.802426,\n",
       " 'plain': 0.1098535805940628,\n",
       " 'snip': 18.618627548217773,\n",
       " 'synflow': 111.92830625120547,\n",
       " 'zen': 139.31690979003906}"
      ]
     },
     "execution_count": 14,
     "metadata": {},
     "output_type": "execute_result"
    }
   ],
   "source": [
    "graf_model.compute_zcp_scores(network)"
   ]
  },
  {
   "cell_type": "code",
   "execution_count": 8,
   "metadata": {},
   "outputs": [
    {
     "name": "stderr",
     "output_type": "stream",
     "text": [
      "16it [00:00, 70.37it/s]"
     ]
    },
    {
     "name": "stderr",
     "output_type": "stream",
     "text": [
      "15625it [02:42, 96.33it/s] \n"
     ]
    }
   ],
   "source": [
    "from graf_nas.graf import create_dataset\n",
    "\n",
    "# graf_nas contains a helper function for creating a tabular dataset:\n",
    "use_onehot = False\n",
    "use_zcp = True\n",
    "use_features = True\n",
    "target = 'val_accs'\n",
    "\n",
    "# you need a net iterator - we will use the index from NB Suite Zero\n",
    "net_iterator = (NB201(n) for n in zc_dataframe.index.to_list())\n",
    "\n",
    "# alternatively, use the iterators with NASLib dataset api\n",
    "# net_iterator = NB201.get_arch_iterator(dataset_api)\n",
    "\n",
    "feature_dataset, y = create_dataset(graf_model, net_iterator,\n",
    "                                    target_df=zc_dataframe, target_name=target,  # dataframe with the target column (optional)\n",
    "                                    use_features=use_features, use_zcp=use_zcp, use_onehot=use_onehot,  # which encodings to use\n",
    "                                    drop_unreachables=benchmark == 'nb201')  # search space with zero ops"
   ]
  },
  {
   "cell_type": "code",
   "execution_count": 10,
   "metadata": {},
   "outputs": [
    {
     "name": "stdout",
     "output_type": "stream",
     "text": [
      "                    op_count_0  op_count_1  op_count_2  op_count_3  op_count_4  min_path_len_(skip_connect)  min_path_len_(none)  min_path_len_(nor_conv_3x3)  min_path_len_(nor_conv_1x1)  min_path_len_(avg_pool_3x3)  min_path_len_(skip_connect,none)  min_path_len_(skip_connect,nor_conv_3x3)  min_path_len_(skip_connect,nor_conv_1x1)  min_path_len_(skip_connect,avg_pool_3x3)  min_path_len_(none,nor_conv_3x3)  min_path_len_(none,nor_conv_1x1)  min_path_len_(none,avg_pool_3x3)  min_path_len_(nor_conv_3x3,nor_conv_1x1)  min_path_len_(nor_conv_3x3,avg_pool_3x3)  min_path_len_(nor_conv_1x1,avg_pool_3x3)  min_path_len_(skip_connect,none,nor_conv_3x3)  min_path_len_(skip_connect,none,nor_conv_1x1)  min_path_len_(skip_connect,none,avg_pool_3x3)  min_path_len_(skip_connect,nor_conv_3x3,nor_conv_1x1)  min_path_len_(skip_connect,nor_conv_3x3,avg_pool_3x3)  min_path_len_(skip_connect,nor_conv_1x1,avg_pool_3x3)  min_path_len_(none,nor_conv_3x3,nor_conv_1x1)  \\\n",
      "(4, 0, 3, 1, 4, 3)           1           1           0           2           2                            6                    6                            6                            1                            2                                 6                                         6                                         1                                         2                                 6                                 1                                 2                                         1                                         2                                         1                                              6                                              1                                              2                                                  1                                                      2                                                      1                                                  1   \n",
      "(2, 4, 0, 0, 3, 2)           2           0           2           1           1                            1                    6                            6                            6                            6                                 1                                         1                                         1                                         1                                 6                                 6                                 6                                         2                                         2                                         6                                              1                                              1                                              1                                                  1                                                      1                                                      1                                                  2   \n",
      "(0, 0, 2, 1, 2, 3)           2           1           2           1           0                            6                    6                            1                            6                            6                                 6                                         1                                         2                                         6                                 1                                 6                                 6                                         1                                         1                                         6                                              1                                              2                                              6                                                  1                                                      1                                                      2                                                  1   \n",
      "(4, 1, 3, 3, 3, 3)           0           1           0           4           1                            6                    6                            6                            1                            6                                 6                                         6                                         1                                         6                                 6                                 1                                 6                                         1                                         6                                         1                                              6                                              1                                              6                                                  1                                                      6                                                      1                                                  1   \n",
      "(3, 1, 2, 3, 2, 3)           0           1           2           3           0                            6                    6                            1                            3                            6                                 6                                         1                                         3                                         6                                 1                                 2                                 6                                         1                                         1                                         3                                              1                                              2                                              6                                                  1                                                      1                                                      3                                                  1   \n",
      "\n",
      "                    min_path_len_(none,nor_conv_3x3,avg_pool_3x3)  min_path_len_(none,nor_conv_1x1,avg_pool_3x3)  min_path_len_(nor_conv_3x3,nor_conv_1x1,avg_pool_3x3)  min_path_len_(skip_connect,none,nor_conv_3x3,nor_conv_1x1)  min_path_len_(skip_connect,none,nor_conv_3x3,avg_pool_3x3)  min_path_len_(skip_connect,none,nor_conv_1x1,avg_pool_3x3)  min_path_len_(skip_connect,nor_conv_3x3,nor_conv_1x1,avg_pool_3x3)  min_path_len_(none,nor_conv_3x3,nor_conv_1x1,avg_pool_3x3)  min_path_len_(skip_connect,none,nor_conv_3x3,nor_conv_1x1,avg_pool_3x3)  max_op_on_path_(skip_connect)  max_op_on_path_(none)  max_op_on_path_(nor_conv_3x3)  max_op_on_path_(nor_conv_1x1)  max_op_on_path_(avg_pool_3x3)  max_op_on_path_(skip_connect,none)  max_op_on_path_(skip_connect,nor_conv_3x3)  max_op_on_path_(skip_connect,nor_conv_1x1)  max_op_on_path_(skip_connect,avg_pool_3x3)  max_op_on_path_(none,nor_conv_3x3)  max_op_on_path_(none,nor_conv_1x1)  max_op_on_path_(none,avg_pool_3x3)  \\\n",
      "(4, 0, 3, 1, 4, 3)                                              2                                              1                                                  1                                                      1                                                           2                                                           1                                                           1                                                                   1                                                           1                                                    0                      0                              0                              1                              2                                   0                                           0                                           2                                           2                                   0                                   1                                   2   \n",
      "(2, 4, 0, 0, 3, 2)                                              2                                              6                                                  2                                                      1                                                           1                                                           1                                                           1                                                                   2                                                           1                                                    1                      0                              0                              0                              0                                   1                                           3                                           1                                           1                                   0                                   0                                   0   \n",
      "(0, 0, 2, 1, 2, 3)                                              1                                              6                                                  1                                                      1                                                           1                                                           2                                                           1                                                                   1                                                           1                                                    0                      0                              1                              0                              0                                   0                                           2                                           2                                           0                                   1                                   0                                   0   \n",
      "(4, 1, 3, 3, 3, 3)                                              6                                              1                                                  1                                                      1                                                           6                                                           1                                                           1                                                                   1                                                           1                                                    0                      0                              0                              1                              0                                   0                                           0                                           1                                           0                                   0                                   2                                   0   \n",
      "(3, 1, 2, 3, 2, 3)                                              1                                              2                                                  1                                                      1                                                           1                                                           2                                                           1                                                                   1                                                           1                                                    0                      0                              1                              3                              0                                   0                                           1                                           3                                           0                                   1                                   3                                   0   \n",
      "\n",
      "                    max_op_on_path_(nor_conv_3x3,nor_conv_1x1)  max_op_on_path_(nor_conv_3x3,avg_pool_3x3)  max_op_on_path_(nor_conv_1x1,avg_pool_3x3)  max_op_on_path_(skip_connect,none,nor_conv_3x3)  max_op_on_path_(skip_connect,none,nor_conv_1x1)  max_op_on_path_(skip_connect,none,avg_pool_3x3)  max_op_on_path_(skip_connect,nor_conv_3x3,nor_conv_1x1)  max_op_on_path_(skip_connect,nor_conv_3x3,avg_pool_3x3)  max_op_on_path_(skip_connect,nor_conv_1x1,avg_pool_3x3)  max_op_on_path_(none,nor_conv_3x3,nor_conv_1x1)  max_op_on_path_(none,nor_conv_3x3,avg_pool_3x3)  max_op_on_path_(none,nor_conv_1x1,avg_pool_3x3)  max_op_on_path_(nor_conv_3x3,nor_conv_1x1,avg_pool_3x3)  max_op_on_path_(skip_connect,none,nor_conv_3x3,nor_conv_1x1)  max_op_on_path_(skip_connect,none,nor_conv_3x3,avg_pool_3x3)  max_op_on_path_(skip_connect,none,nor_conv_1x1,avg_pool_3x3)  max_op_on_path_(skip_connect,nor_conv_3x3,nor_conv_1x1,avg_pool_3x3)  max_op_on_path_(none,nor_conv_3x3,nor_conv_1x1,avg_pool_3x3)  \\\n",
      "(4, 0, 3, 1, 4, 3)                                           1                                           2                                           2                                                0                                                2                                                2                                                  2                                                        2                                                        2                                                      1                                                2                                                3                                                  2                                                        2                                                             2                                                             3                                                             2                                                                     3              \n",
      "(2, 4, 0, 0, 3, 2)                                           2                                           2                                           0                                                3                                                1                                                1                                                  3                                                        3                                                        1                                                      2                                                2                                                0                                                  2                                                        3                                                             3                                                             1                                                             3                                                                     2              \n",
      "(0, 0, 2, 1, 2, 3)                                           1                                           1                                           0                                                2                                                3                                                0                                                  2                                                        2                                                        2                                                      1                                                1                                                0                                                  1                                                        3                                                             2                                                             3                                                             2                                                                     1              \n",
      "(4, 1, 3, 3, 3, 3)                                           1                                           0                                           3                                                0                                                2                                                0                                                  1                                                        0                                                        3                                                      2                                                0                                                3                                                  3                                                        2                                                             0                                                             3                                                             3                                                                     3              \n",
      "(3, 1, 2, 3, 2, 3)                                           3                                           1                                           3                                                1                                                3                                                0                                                  3                                                        1                                                        3                                                      3                                                1                                                3                                                  3                                                        3                                                             1                                                             3                                                             3                                                                     3              \n",
      "\n",
      "                    max_op_on_path_(skip_connect,none,nor_conv_3x3,nor_conv_1x1,avg_pool_3x3)  node_degree_(skip_connect)_in_degree  node_degree_(skip_connect)_out_degree  node_degree_(skip_connect)_avg_in  node_degree_(skip_connect)_avg_out  node_degree_(none)_in_degree  node_degree_(none)_out_degree  node_degree_(none)_avg_in  node_degree_(none)_avg_out  node_degree_(nor_conv_3x3)_in_degree  node_degree_(nor_conv_3x3)_out_degree  node_degree_(nor_conv_3x3)_avg_in  node_degree_(nor_conv_3x3)_avg_out  node_degree_(nor_conv_1x1)_in_degree  node_degree_(nor_conv_1x1)_out_degree  node_degree_(nor_conv_1x1)_avg_in  node_degree_(nor_conv_1x1)_avg_out  node_degree_(avg_pool_3x3)_in_degree  node_degree_(avg_pool_3x3)_out_degree  node_degree_(avg_pool_3x3)_avg_in  node_degree_(avg_pool_3x3)_avg_out  node_degree_(skip_connect,none)_in_degree  node_degree_(skip_connect,none)_out_degree  node_degree_(skip_connect,none)_avg_in  node_degree_(skip_connect,none)_avg_out  \\\n",
      "(4, 0, 3, 1, 4, 3)                                                  3                                                             1                                      0                               0.25                                0.25                             0                              0                       0.25                        0.25                                     0                                      0                                0.0                                 0.0                                     1                                      2                               0.50                                0.50                                     1                                      1                               0.50                                0.50                                          1                                           0                                    0.50                                     0.50   \n",
      "(2, 4, 0, 0, 3, 2)                                                  3                                                             1                                      1                               0.50                                0.50                             0                              0                       0.00                        0.00                                     1                                      1                                0.5                                 0.5                                     0                                      1                               0.25                                0.25                                     1                                      0                               0.25                                0.25                                          1                                           1                                    0.50                                     0.50   \n",
      "(0, 0, 2, 1, 2, 3)                                                  3                                                             2                                      0                               0.50                                0.50                             0                              0                       0.25                        0.25                                     1                                      2                                0.5                                 0.5                                     0                                      1                               0.25                                0.25                                     0                                      0                               0.00                                0.00                                          2                                           0                                    0.75                                     0.75   \n",
      "(4, 1, 3, 3, 3, 3)                                                  3                                                             0                                      0                               0.00                                0.00                             1                              0                       0.25                        0.25                                     0                                      0                                0.0                                 0.0                                     1                                      3                               1.00                                1.00                                     1                                      0                               0.25                                0.25                                          1                                           0                                    0.25                                     0.25   \n",
      "(3, 1, 2, 3, 2, 3)                                                  3                                                             0                                      0                               0.00                                0.00                             1                              0                       0.25                        0.25                                     1                                      2                                0.5                                 0.5                                     1                                      1                               0.75                                0.75                                     0                                      0                               0.00                                0.00                                          1                                           0                                    0.25                                     0.25   \n",
      "\n",
      "                    node_degree_(skip_connect,nor_conv_3x3)_in_degree  node_degree_(skip_connect,nor_conv_3x3)_out_degree  node_degree_(skip_connect,nor_conv_3x3)_avg_in  node_degree_(skip_connect,nor_conv_3x3)_avg_out  node_degree_(skip_connect,nor_conv_1x1)_in_degree  node_degree_(skip_connect,nor_conv_1x1)_out_degree  node_degree_(skip_connect,nor_conv_1x1)_avg_in  node_degree_(skip_connect,nor_conv_1x1)_avg_out  node_degree_(skip_connect,avg_pool_3x3)_in_degree  node_degree_(skip_connect,avg_pool_3x3)_out_degree  node_degree_(skip_connect,avg_pool_3x3)_avg_in  node_degree_(skip_connect,avg_pool_3x3)_avg_out  node_degree_(none,nor_conv_3x3)_in_degree  node_degree_(none,nor_conv_3x3)_out_degree  node_degree_(none,nor_conv_3x3)_avg_in  node_degree_(none,nor_conv_3x3)_avg_out  node_degree_(none,nor_conv_1x1)_in_degree  node_degree_(none,nor_conv_1x1)_out_degree  node_degree_(none,nor_conv_1x1)_avg_in  node_degree_(none,nor_conv_1x1)_avg_out  node_degree_(none,avg_pool_3x3)_in_degree  \\\n",
      "(4, 0, 3, 1, 4, 3)                                                  1                                                  0                                             0.25                                             0.25                                                  2                                                  2                                             0.75                                             0.75                                                  2                                                  1                                             0.75                                             0.75                                          0                                           0                                    0.25                                     0.25                                          1                                           2                                    0.75                                     0.75                                          1   \n",
      "(2, 4, 0, 0, 3, 2)                                                  2                                                  2                                             1.00                                             1.00                                                  1                                                  2                                             0.75                                             0.75                                                  2                                                  1                                             0.75                                             0.75                                          1                                           1                                    0.50                                     0.50                                          0                                           1                                    0.25                                     0.25                                          1   \n",
      "(0, 0, 2, 1, 2, 3)                                                  3                                                  2                                             1.00                                             1.00                                                  2                                                  1                                             0.75                                             0.75                                                  2                                                  0                                             0.50                                             0.50                                          1                                           2                                    0.75                                     0.75                                          0                                           1                                    0.50                                     0.50                                          0   \n",
      "(4, 1, 3, 3, 3, 3)                                                  0                                                  0                                             0.00                                             0.00                                                  1                                                  3                                             1.00                                             1.00                                                  1                                                  0                                             0.25                                             0.25                                          1                                           0                                    0.25                                     0.25                                          2                                           3                                    1.25                                     1.25                                          2   \n",
      "(3, 1, 2, 3, 2, 3)                                                  1                                                  2                                             0.50                                             0.50                                                  1                                                  1                                             0.75                                             0.75                                                  0                                                  0                                             0.00                                             0.00                                          2                                           2                                    0.75                                     0.75                                          2                                           1                                    1.00                                     1.00                                          1   \n",
      "\n",
      "                    node_degree_(none,avg_pool_3x3)_out_degree  node_degree_(none,avg_pool_3x3)_avg_in  node_degree_(none,avg_pool_3x3)_avg_out  node_degree_(nor_conv_3x3,nor_conv_1x1)_in_degree  node_degree_(nor_conv_3x3,nor_conv_1x1)_out_degree  node_degree_(nor_conv_3x3,nor_conv_1x1)_avg_in  node_degree_(nor_conv_3x3,nor_conv_1x1)_avg_out  node_degree_(nor_conv_3x3,avg_pool_3x3)_in_degree  node_degree_(nor_conv_3x3,avg_pool_3x3)_out_degree  node_degree_(nor_conv_3x3,avg_pool_3x3)_avg_in  node_degree_(nor_conv_3x3,avg_pool_3x3)_avg_out  node_degree_(nor_conv_1x1,avg_pool_3x3)_in_degree  node_degree_(nor_conv_1x1,avg_pool_3x3)_out_degree  node_degree_(nor_conv_1x1,avg_pool_3x3)_avg_in  node_degree_(nor_conv_1x1,avg_pool_3x3)_avg_out  node_degree_(skip_connect,none,nor_conv_3x3)_in_degree  node_degree_(skip_connect,none,nor_conv_3x3)_out_degree  node_degree_(skip_connect,none,nor_conv_3x3)_avg_in  node_degree_(skip_connect,none,nor_conv_3x3)_avg_out  \\\n",
      "(4, 0, 3, 1, 4, 3)                                           1                                    0.75                                     0.75                                                  1                                                  2                                             0.50                                             0.50                                                  1                                                  1                                             0.50                                             0.50                                                  2                                                  3                                             1.00                                             1.00                                                  1                                                       0                                                     0.50                                                 0.50      \n",
      "(2, 4, 0, 0, 3, 2)                                           0                                    0.25                                     0.25                                                  1                                                  2                                             0.75                                             0.75                                                  2                                                  1                                             0.75                                             0.75                                                  1                                                  1                                             0.50                                             0.50                                                  2                                                       2                                                     1.00                                                 1.00      \n",
      "(0, 0, 2, 1, 2, 3)                                           0                                    0.25                                     0.25                                                  1                                                  3                                             0.75                                             0.75                                                  1                                                  2                                             0.50                                             0.50                                                  0                                                  1                                             0.25                                             0.25                                                  3                                                       2                                                     1.25                                                 1.25      \n",
      "(4, 1, 3, 3, 3, 3)                                           0                                    0.50                                     0.50                                                  1                                                  3                                             1.00                                             1.00                                                  1                                                  0                                             0.25                                             0.25                                                  2                                                  3                                             1.25                                             1.25                                                  1                                                       0                                                     0.25                                                 0.25      \n",
      "(3, 1, 2, 3, 2, 3)                                           0                                    0.25                                     0.25                                                  2                                                  3                                             1.25                                             1.25                                                  1                                                  2                                             0.50                                             0.50                                                  1                                                  1                                             0.75                                             0.75                                                  2                                                       2                                                     0.75                                                 0.75      \n",
      "\n",
      "                    node_degree_(skip_connect,none,nor_conv_1x1)_in_degree  node_degree_(skip_connect,none,nor_conv_1x1)_out_degree  node_degree_(skip_connect,none,nor_conv_1x1)_avg_in  node_degree_(skip_connect,none,nor_conv_1x1)_avg_out  node_degree_(skip_connect,none,avg_pool_3x3)_in_degree  node_degree_(skip_connect,none,avg_pool_3x3)_out_degree  node_degree_(skip_connect,none,avg_pool_3x3)_avg_in  node_degree_(skip_connect,none,avg_pool_3x3)_avg_out  node_degree_(skip_connect,nor_conv_3x3,nor_conv_1x1)_in_degree  node_degree_(skip_connect,nor_conv_3x3,nor_conv_1x1)_out_degree  node_degree_(skip_connect,nor_conv_3x3,nor_conv_1x1)_avg_in  node_degree_(skip_connect,nor_conv_3x3,nor_conv_1x1)_avg_out  node_degree_(skip_connect,nor_conv_3x3,avg_pool_3x3)_in_degree  node_degree_(skip_connect,nor_conv_3x3,avg_pool_3x3)_out_degree  node_degree_(skip_connect,nor_conv_3x3,avg_pool_3x3)_avg_in  node_degree_(skip_connect,nor_conv_3x3,avg_pool_3x3)_avg_out  \\\n",
      "(4, 0, 3, 1, 4, 3)                                                  2                                                       2                                                     1.00                                                 1.00                                                     2                                                       1                                                     1.00                                                 1.00                                                     2                                                               2                                                             0.75                                                         0.75                                                             2                                                               1                                                             0.75                                                         0.75              \n",
      "(2, 4, 0, 0, 3, 2)                                                  1                                                       2                                                     0.75                                                 0.75                                                     2                                                       1                                                     0.75                                                 0.75                                                     2                                                               3                                                             1.25                                                         1.25                                                             3                                                               2                                                             1.25                                                         1.25              \n",
      "(0, 0, 2, 1, 2, 3)                                                  2                                                       1                                                     1.00                                                 1.00                                                     2                                                       0                                                     0.75                                                 0.75                                                     3                                                               3                                                             1.25                                                         1.25                                                             3                                                               2                                                             1.00                                                         1.00              \n",
      "(4, 1, 3, 3, 3, 3)                                                  2                                                       3                                                     1.25                                                 1.25                                                     2                                                       0                                                     0.50                                                 0.50                                                     1                                                               3                                                             1.00                                                         1.00                                                             1                                                               0                                                             0.25                                                         0.25              \n",
      "(3, 1, 2, 3, 2, 3)                                                  2                                                       1                                                     1.00                                                 1.00                                                     1                                                       0                                                     0.25                                                 0.25                                                     2                                                               3                                                             1.25                                                         1.25                                                             1                                                               2                                                             0.50                                                         0.50              \n",
      "\n",
      "                    node_degree_(skip_connect,nor_conv_1x1,avg_pool_3x3)_in_degree  node_degree_(skip_connect,nor_conv_1x1,avg_pool_3x3)_out_degree  node_degree_(skip_connect,nor_conv_1x1,avg_pool_3x3)_avg_in  node_degree_(skip_connect,nor_conv_1x1,avg_pool_3x3)_avg_out  node_degree_(none,nor_conv_3x3,nor_conv_1x1)_in_degree  node_degree_(none,nor_conv_3x3,nor_conv_1x1)_out_degree  node_degree_(none,nor_conv_3x3,nor_conv_1x1)_avg_in  node_degree_(none,nor_conv_3x3,nor_conv_1x1)_avg_out  node_degree_(none,nor_conv_3x3,avg_pool_3x3)_in_degree  node_degree_(none,nor_conv_3x3,avg_pool_3x3)_out_degree  node_degree_(none,nor_conv_3x3,avg_pool_3x3)_avg_in  node_degree_(none,nor_conv_3x3,avg_pool_3x3)_avg_out  node_degree_(none,nor_conv_1x1,avg_pool_3x3)_in_degree  node_degree_(none,nor_conv_1x1,avg_pool_3x3)_out_degree  node_degree_(none,nor_conv_1x1,avg_pool_3x3)_avg_in  node_degree_(none,nor_conv_1x1,avg_pool_3x3)_avg_out  node_degree_(nor_conv_3x3,nor_conv_1x1,avg_pool_3x3)_in_degree  \\\n",
      "(4, 0, 3, 1, 4, 3)                                                  3                                                               3                                                             1.25                                                         1.25                                                             1                                                       2                                                     0.75                                                 0.75                                                     1                                                       1                                                     0.75                                                 0.75                                                     2                                                       3                                                     1.25                                                 1.25                                                     2                \n",
      "(2, 4, 0, 0, 3, 2)                                                  2                                                               2                                                             1.00                                                         1.00                                                             1                                                       2                                                     0.75                                                 0.75                                                     2                                                       1                                                     0.75                                                 0.75                                                     1                                                       1                                                     0.50                                                 0.50                                                     2                \n",
      "(0, 0, 2, 1, 2, 3)                                                  2                                                               1                                                             0.75                                                         0.75                                                             1                                                       3                                                     1.00                                                 1.00                                                     1                                                       2                                                     0.75                                                 0.75                                                     0                                                       1                                                     0.50                                                 0.50                                                     1                \n",
      "(4, 1, 3, 3, 3, 3)                                                  2                                                               3                                                             1.25                                                         1.25                                                             2                                                       3                                                     1.25                                                 1.25                                                     2                                                       0                                                     0.50                                                 0.50                                                     3                                                       3                                                     1.50                                                 1.50                                                     2                \n",
      "(3, 1, 2, 3, 2, 3)                                                  1                                                               1                                                             0.75                                                         0.75                                                             3                                                       3                                                     1.50                                                 1.50                                                     2                                                       2                                                     0.75                                                 0.75                                                     2                                                       1                                                     1.00                                                 1.00                                                     2                \n",
      "\n",
      "                    node_degree_(nor_conv_3x3,nor_conv_1x1,avg_pool_3x3)_out_degree  node_degree_(nor_conv_3x3,nor_conv_1x1,avg_pool_3x3)_avg_in  node_degree_(nor_conv_3x3,nor_conv_1x1,avg_pool_3x3)_avg_out  node_degree_(skip_connect,none,nor_conv_3x3,nor_conv_1x1)_in_degree  node_degree_(skip_connect,none,nor_conv_3x3,nor_conv_1x1)_out_degree  node_degree_(skip_connect,none,nor_conv_3x3,nor_conv_1x1)_avg_in  node_degree_(skip_connect,none,nor_conv_3x3,nor_conv_1x1)_avg_out  node_degree_(skip_connect,none,nor_conv_3x3,avg_pool_3x3)_in_degree  node_degree_(skip_connect,none,nor_conv_3x3,avg_pool_3x3)_out_degree  node_degree_(skip_connect,none,nor_conv_3x3,avg_pool_3x3)_avg_in  node_degree_(skip_connect,none,nor_conv_3x3,avg_pool_3x3)_avg_out  node_degree_(skip_connect,none,nor_conv_1x1,avg_pool_3x3)_in_degree  node_degree_(skip_connect,none,nor_conv_1x1,avg_pool_3x3)_out_degree  node_degree_(skip_connect,none,nor_conv_1x1,avg_pool_3x3)_avg_in  \\\n",
      "(4, 0, 3, 1, 4, 3)                                                  3                                                             1.00                                                         1.00                                                             2                                                                    2                                                                  1.00                                                              1.00                                                                  2                                                                    1                                                                  1.00                                                              1.00                                                                  3                                                                    3                                                                   1.5                  \n",
      "(2, 4, 0, 0, 3, 2)                                                  2                                                             1.00                                                         1.00                                                             2                                                                    3                                                                  1.25                                                              1.25                                                                  3                                                                    2                                                                  1.25                                                              1.25                                                                  2                                                                    2                                                                   1.0                  \n",
      "(0, 0, 2, 1, 2, 3)                                                  3                                                             0.75                                                         0.75                                                             3                                                                    3                                                                  1.50                                                              1.50                                                                  3                                                                    2                                                                  1.25                                                              1.25                                                                  2                                                                    1                                                                   1.0                  \n",
      "(4, 1, 3, 3, 3, 3)                                                  3                                                             1.25                                                         1.25                                                             2                                                                    3                                                                  1.25                                                              1.25                                                                  2                                                                    0                                                                  0.50                                                              0.50                                                                  3                                                                    3                                                                   1.5                  \n",
      "(3, 1, 2, 3, 2, 3)                                                  3                                                             1.25                                                         1.25                                                             3                                                                    3                                                                  1.50                                                              1.50                                                                  2                                                                    2                                                                  0.75                                                              0.75                                                                  2                                                                    1                                                                   1.0                  \n",
      "\n",
      "                    node_degree_(skip_connect,none,nor_conv_1x1,avg_pool_3x3)_avg_out  node_degree_(skip_connect,nor_conv_3x3,nor_conv_1x1,avg_pool_3x3)_in_degree  node_degree_(skip_connect,nor_conv_3x3,nor_conv_1x1,avg_pool_3x3)_out_degree  node_degree_(skip_connect,nor_conv_3x3,nor_conv_1x1,avg_pool_3x3)_avg_in  node_degree_(skip_connect,nor_conv_3x3,nor_conv_1x1,avg_pool_3x3)_avg_out  node_degree_(none,nor_conv_3x3,nor_conv_1x1,avg_pool_3x3)_in_degree  node_degree_(none,nor_conv_3x3,nor_conv_1x1,avg_pool_3x3)_out_degree  node_degree_(none,nor_conv_3x3,nor_conv_1x1,avg_pool_3x3)_avg_in  node_degree_(none,nor_conv_3x3,nor_conv_1x1,avg_pool_3x3)_avg_out  node_degree_(skip_connect,none,nor_conv_3x3,nor_conv_1x1,avg_pool_3x3)_in_degree  node_degree_(skip_connect,none,nor_conv_3x3,nor_conv_1x1,avg_pool_3x3)_out_degree  node_degree_(skip_connect,none,nor_conv_3x3,nor_conv_1x1,avg_pool_3x3)_avg_in  node_degree_(skip_connect,none,nor_conv_3x3,nor_conv_1x1,avg_pool_3x3)_avg_out  \\\n",
      "(4, 0, 3, 1, 4, 3)                                                1.5                                                                  3                                                                            3                                                                          1.25                                                                      1.25                                                                          2                                                                    3                                                                  1.25                                                              1.25                                                                  3                                                                                 3                                                                                1.5                                                                            1.5                                \n",
      "(2, 4, 0, 0, 3, 2)                                                1.0                                                                  3                                                                            3                                                                          1.50                                                                      1.50                                                                          2                                                                    2                                                                  1.00                                                              1.00                                                                  3                                                                                 3                                                                                1.5                                                                            1.5                                \n",
      "(0, 0, 2, 1, 2, 3)                                                1.0                                                                  3                                                                            3                                                                          1.25                                                                      1.25                                                                          1                                                                    3                                                                  1.00                                                              1.00                                                                  3                                                                                 3                                                                                1.5                                                                            1.5                                \n",
      "(4, 1, 3, 3, 3, 3)                                                1.5                                                                  2                                                                            3                                                                          1.25                                                                      1.25                                                                          3                                                                    3                                                                  1.50                                                              1.50                                                                  3                                                                                 3                                                                                1.5                                                                            1.5                                \n",
      "(3, 1, 2, 3, 2, 3)                                                1.0                                                                  2                                                                            3                                                                          1.25                                                                      1.25                                                                          3                                                                    3                                                                  1.50                                                              1.50                                                                  3                                                                                 3                                                                                1.5                                                                            1.5                                \n",
      "\n",
      "                        epe_nas    fisher      flops   grad_norm       grasp      jacov     l2_norm        nwot    params     plain        snip    synflow         zen  \n",
      "(4, 0, 3, 1, 4, 3)  1283.299108  0.036440  19.248832   10.883215    0.244735 -88.289871  130.200516  754.684333  0.129306  0.033875   22.923178  44.484811   63.387894  \n",
      "(2, 4, 0, 0, 3, 2)  1712.860614  0.023383  85.235392   12.691692    2.205327 -65.193310  180.487396  785.622961  0.587386  0.079539   26.610859  85.295247  119.493332  \n",
      "(0, 0, 2, 1, 2, 3)  1892.558689  0.091167  83.945152   24.872454   12.207823 -65.285305  180.934311  788.917398  0.587386  0.077502   51.889561  60.212156   92.669968  \n",
      "(4, 1, 3, 3, 3, 3)  1379.897450  0.161322  26.683072   41.271332   23.266205 -78.714333  231.918152  803.910385  0.185306  0.159051   68.328522  55.762511   66.955254  \n",
      "(3, 1, 2, 3, 2, 3)  1591.668318  2.919859  92.669632  194.829361  352.838989 -65.193801  283.023499  820.626852  0.643386  0.146713  300.757782  76.735830  103.120293  \n"
     ]
    }
   ],
   "source": [
    "# full set of features for the networks\n",
    "pprint.pprint(feature_dataset.head())"
   ]
  },
  {
   "cell_type": "markdown",
   "metadata": {},
   "source": [
    "## Train a performance predictor"
   ]
  },
  {
   "cell_type": "code",
   "execution_count": 11,
   "metadata": {},
   "outputs": [],
   "source": [
    "import time\n",
    "from sklearn.model_selection import train_test_split\n",
    "from sklearn.ensemble import RandomForestRegressor\n",
    "from scipy.stats import spearmanr, kendalltau\n",
    "from sklearn.metrics import r2_score, mean_squared_error\n",
    "\n",
    "def get_train_test_splits(feature_dataset, y, train_size, seed):\n",
    "    train_X, test_X, train_y, test_y = train_test_split(feature_dataset, y, train_size=train_size, random_state=seed)\n",
    "    return {'train_X': train_X, 'train_y': train_y, 'test_X': test_X, 'test_y': test_y}\n",
    "\n",
    "\n",
    "def eval_model(model, data_splits):\n",
    "    start = time.time()\n",
    "    model.fit(data_splits['train_X'], data_splits['train_y'])\n",
    "    fit_time = time.time() - start\n",
    "\n",
    "    preds = model.predict(data_splits['test_X'])\n",
    "    true = data_splits['test_y']\n",
    "\n",
    "    res = {\n",
    "        'fit_time': fit_time,\n",
    "        'r2': r2_score(true, preds),\n",
    "        'mse': mean_squared_error(true, preds),\n",
    "        'corr': spearmanr(preds, true)[0],\n",
    "        'tau': kendalltau(preds, true)[0]\n",
    "    }\n",
    "\n",
    "    return res"
   ]
  },
  {
   "cell_type": "code",
   "execution_count": 13,
   "metadata": {},
   "outputs": [
    {
     "name": "stdout",
     "output_type": "stream",
     "text": [
      "{'fit_time': 0.4751884937286377, 'r2': 0.6042614113474791, 'mse': 18.67546095691381, 'corr': 0.9140756208774302, 'tau': 0.7443707437594393}\n"
     ]
    }
   ],
   "source": [
    "seed = 42\n",
    "n_evals = 50\n",
    "train_size = 100\n",
    "\n",
    "# we use the Random Forest, because it's fast to fit. In practice, you would use a tuned XGBoost or a tabular AutoML system\n",
    "rf = RandomForestRegressor()\n",
    "\n",
    "data_splits = get_train_test_splits(feature_dataset, y, train_size, seed)\n",
    "res = eval_model(rf, data_splits)\n",
    "\n",
    "print(res)"
   ]
  },
  {
   "cell_type": "code",
   "execution_count": 17,
   "metadata": {},
   "outputs": [
    {
     "name": "stdout",
     "output_type": "stream",
     "text": [
      "fit_time     0.375859\n",
      "r2           0.743025\n",
      "mse         12.092550\n",
      "corr         0.926532\n",
      "tau          0.767057\n",
      "seed        66.500000\n",
      "dtype: float64\n"
     ]
    }
   ],
   "source": [
    "# ideally, evaluate the model multiple times and report the mean/std ...\n",
    "import pandas as pd\n",
    "\n",
    "\n",
    "results = []\n",
    "for i in range(n_evals):\n",
    "    data_seed = seed + i\n",
    "    data_splits = get_train_test_splits(feature_dataset, y, train_size, data_seed)\n",
    "    \n",
    "    rf = RandomForestRegressor()\n",
    "\n",
    "    res = eval_model(rf, data_splits)\n",
    "    res['seed'] = data_seed\n",
    "    results.append(res)\n",
    "\n",
    "res_df = pd.DataFrame(results)\n",
    "print(res_df.mean())"
   ]
  },
  {
   "cell_type": "markdown",
   "metadata": {},
   "source": [
    "# 3. Interpretability via SHAP"
   ]
  },
  {
   "cell_type": "code",
   "execution_count": 18,
   "metadata": {},
   "outputs": [],
   "source": [
    "import numpy as np\n",
    "import shap\n",
    "\n",
    "# function for computing the shapley values\n",
    "def shap_importances(model, test_X):\n",
    "    explainer = shap.TreeExplainer(model)\n",
    "    shap_values = explainer.shap_values(test_X)\n",
    "    shap_values = np.abs(shap_values).mean(axis=0)\n",
    "    return shap_values"
   ]
  },
  {
   "cell_type": "code",
   "execution_count": 20,
   "metadata": {},
   "outputs": [],
   "source": [
    "shapvals = shap_importances(rf, data_splits['test_X'])"
   ]
  },
  {
   "cell_type": "code",
   "execution_count": 24,
   "metadata": {},
   "outputs": [
    {
     "data": {
      "text/plain": [
       "(204, 204)"
      ]
     },
     "execution_count": 24,
     "metadata": {},
     "output_type": "execute_result"
    }
   ],
   "source": [
    "# shapley values match the number of data columns\n",
    "feature_names = data_splits['test_X'].columns\n",
    "len(shapvals), len(feature_names)"
   ]
  },
  {
   "cell_type": "code",
   "execution_count": 25,
   "metadata": {},
   "outputs": [
    {
     "data": {
      "text/html": [
       "<div>\n",
       "<style scoped>\n",
       "    .dataframe tbody tr th:only-of-type {\n",
       "        vertical-align: middle;\n",
       "    }\n",
       "\n",
       "    .dataframe tbody tr th {\n",
       "        vertical-align: top;\n",
       "    }\n",
       "\n",
       "    .dataframe thead th {\n",
       "        text-align: right;\n",
       "    }\n",
       "</style>\n",
       "<table border=\"1\" class=\"dataframe\">\n",
       "  <thead>\n",
       "    <tr style=\"text-align: right;\">\n",
       "      <th></th>\n",
       "      <th>name</th>\n",
       "      <th>shap</th>\n",
       "    </tr>\n",
       "  </thead>\n",
       "  <tbody>\n",
       "    <tr>\n",
       "      <th>0</th>\n",
       "      <td>op_count_0</td>\n",
       "      <td>0.002082</td>\n",
       "    </tr>\n",
       "    <tr>\n",
       "      <th>1</th>\n",
       "      <td>op_count_1</td>\n",
       "      <td>0.008196</td>\n",
       "    </tr>\n",
       "    <tr>\n",
       "      <th>2</th>\n",
       "      <td>op_count_2</td>\n",
       "      <td>0.014873</td>\n",
       "    </tr>\n",
       "    <tr>\n",
       "      <th>3</th>\n",
       "      <td>op_count_3</td>\n",
       "      <td>0.001956</td>\n",
       "    </tr>\n",
       "    <tr>\n",
       "      <th>4</th>\n",
       "      <td>op_count_4</td>\n",
       "      <td>0.006066</td>\n",
       "    </tr>\n",
       "  </tbody>\n",
       "</table>\n",
       "</div>"
      ],
      "text/plain": [
       "         name      shap\n",
       "0  op_count_0  0.002082\n",
       "1  op_count_1  0.008196\n",
       "2  op_count_2  0.014873\n",
       "3  op_count_3  0.001956\n",
       "4  op_count_4  0.006066"
      ]
     },
     "execution_count": 25,
     "metadata": {},
     "output_type": "execute_result"
    }
   ],
   "source": [
    "importances = pd.DataFrame({'name': feature_names, 'shap': shapvals})\n",
    "importances.head()"
   ]
  },
  {
   "cell_type": "code",
   "execution_count": 30,
   "metadata": {},
   "outputs": [
    {
     "data": {
      "text/html": [
       "<div>\n",
       "<style scoped>\n",
       "    .dataframe tbody tr th:only-of-type {\n",
       "        vertical-align: middle;\n",
       "    }\n",
       "\n",
       "    .dataframe tbody tr th {\n",
       "        vertical-align: top;\n",
       "    }\n",
       "\n",
       "    .dataframe thead th {\n",
       "        text-align: right;\n",
       "    }\n",
       "</style>\n",
       "<table border=\"1\" class=\"dataframe\">\n",
       "  <thead>\n",
       "    <tr style=\"text-align: right;\">\n",
       "      <th></th>\n",
       "      <th>name</th>\n",
       "      <th>shap</th>\n",
       "    </tr>\n",
       "  </thead>\n",
       "  <tbody>\n",
       "    <tr>\n",
       "      <th>191</th>\n",
       "      <td>epe_nas</td>\n",
       "      <td>1.915670</td>\n",
       "    </tr>\n",
       "    <tr>\n",
       "      <th>196</th>\n",
       "      <td>jacov</td>\n",
       "      <td>0.594716</td>\n",
       "    </tr>\n",
       "    <tr>\n",
       "      <th>198</th>\n",
       "      <td>nwot</td>\n",
       "      <td>0.491787</td>\n",
       "    </tr>\n",
       "    <tr>\n",
       "      <th>194</th>\n",
       "      <td>grad_norm</td>\n",
       "      <td>0.149341</td>\n",
       "    </tr>\n",
       "    <tr>\n",
       "      <th>114</th>\n",
       "      <td>node_degree_(none,avg_pool_3x3)_avg_out</td>\n",
       "      <td>0.130905</td>\n",
       "    </tr>\n",
       "    <tr>\n",
       "      <th>197</th>\n",
       "      <td>l2_norm</td>\n",
       "      <td>0.123606</td>\n",
       "    </tr>\n",
       "    <tr>\n",
       "      <th>113</th>\n",
       "      <td>node_degree_(none,avg_pool_3x3)_avg_in</td>\n",
       "      <td>0.111720</td>\n",
       "    </tr>\n",
       "    <tr>\n",
       "      <th>137</th>\n",
       "      <td>node_degree_(skip_connect,none,avg_pool_3x3)_a...</td>\n",
       "      <td>0.111578</td>\n",
       "    </tr>\n",
       "    <tr>\n",
       "      <th>141</th>\n",
       "      <td>node_degree_(skip_connect,nor_conv_3x3,nor_con...</td>\n",
       "      <td>0.111196</td>\n",
       "    </tr>\n",
       "    <tr>\n",
       "      <th>203</th>\n",
       "      <td>zen</td>\n",
       "      <td>0.102282</td>\n",
       "    </tr>\n",
       "  </tbody>\n",
       "</table>\n",
       "</div>"
      ],
      "text/plain": [
       "                                                  name      shap\n",
       "191                                            epe_nas  1.915670\n",
       "196                                              jacov  0.594716\n",
       "198                                               nwot  0.491787\n",
       "194                                          grad_norm  0.149341\n",
       "114            node_degree_(none,avg_pool_3x3)_avg_out  0.130905\n",
       "197                                            l2_norm  0.123606\n",
       "113             node_degree_(none,avg_pool_3x3)_avg_in  0.111720\n",
       "137  node_degree_(skip_connect,none,avg_pool_3x3)_a...  0.111578\n",
       "141  node_degree_(skip_connect,nor_conv_3x3,nor_con...  0.111196\n",
       "203                                                zen  0.102282"
      ]
     },
     "execution_count": 30,
     "metadata": {},
     "output_type": "execute_result"
    }
   ],
   "source": [
    "# get the most important features according to shap\n",
    "\n",
    "importances.sort_values('shap', ascending=False)[:10]"
   ]
  },
  {
   "cell_type": "markdown",
   "metadata": {},
   "source": [
    "### Exercise -- look at importances when using only the features\n",
    "Using `create_dataset`, create a new input dataset. Then, train a new predictor and analyze the importances. You can also experiment with different predictors.\n",
    "\n",
    "Alternatively, compare the `cifar10` importances with the `cifar100` and `ImageNet16-120` datasets (requires loading a different dataset from `zc_nasbench201.json`)"
   ]
  },
  {
   "cell_type": "code",
   "execution_count": 31,
   "metadata": {},
   "outputs": [],
   "source": [
    "# **** your code ****\n",
    "pass"
   ]
  },
  {
   "cell_type": "markdown",
   "metadata": {},
   "source": [
    "# 4. Extending the GRAF library"
   ]
  },
  {
   "cell_type": "markdown",
   "metadata": {},
   "source": [
    "## New ZCP (TODO)\n",
    "\n",
    "You can look at zero-cost proxy code in NASLib: https://github.com/automl/NASLib/tree/Develop/naslib/predictors/utils/pruners/measures\n",
    "\n",
    "Zero-cost proxies in NASLib are mostly adapted from https://github.com/SamsungLabs/zero-cost-nas/tree/main/foresight/pruners/measures"
   ]
  },
  {
   "cell_type": "code",
   "execution_count": 100,
   "metadata": {},
   "outputs": [
    {
     "data": {
      "text/plain": [
       "['makrograph-edge(1,2).seq.0',\n",
       " 'makrograph-edge(2,3).cell-edge(1,2).op.1',\n",
       " 'makrograph-edge(2,3).cell-edge(2,3).op.1',\n",
       " 'makrograph-edge(2,3).cell-edge(3,4).op.1',\n",
       " 'makrograph-edge(3,4).cell-edge(1,2).op.1']"
      ]
     },
     "execution_count": 100,
     "metadata": {},
     "output_type": "execute_result"
    }
   ],
   "source": [
    "def is_conv3x3(module):\n",
    "    return isinstance(module, torch.nn.Conv2d) and str(module.kernel_size) == '(3, 3)'\n",
    "\n",
    "# get all the convs3x3\n",
    "[name for name, module in model.named_modules() if is_conv3x3(module)][:5]"
   ]
  },
  {
   "cell_type": "code",
   "execution_count": 101,
   "metadata": {},
   "outputs": [],
   "source": [
    "# proxy function\n",
    "def compute_conv3x3_params(net):\n",
    "    def is_conv3x3(module):\n",
    "        return isinstance(module, torch.nn.Conv2d) and str(module.kernel_size) == '(3, 3)'\n",
    "\n",
    "    conv_params = 0\n",
    "    for _, module in net.named_modules():\n",
    "        if not is_conv3x3(module):\n",
    "            continue\n",
    "        conv_params += sum([p.flatten().shape[0] for p in module.parameters()])\n",
    "\n",
    "    return conv_params / 1e6  # params in NB-Suite-Zero are actually megaparams"
   ]
  },
  {
   "cell_type": "code",
   "execution_count": 102,
   "metadata": {},
   "outputs": [
    {
     "name": "stdout",
     "output_type": "stream",
     "text": [
      "conv3x3_params:  0.795312  | params:  0.802426\n"
     ]
    }
   ],
   "source": [
    "from graf_nas.features.zero_cost import ZeroCostFunc\n",
    "\n",
    "scorer = ZeroCostFunc('conv3x3_params', compute_conv3x3_params)\n",
    "print(f\"{scorer.name}: \", scorer(network.get_model()), \" | params: \", zc_dataframe.loc[network.net]['params'])"
   ]
  },
  {
   "cell_type": "markdown",
   "metadata": {},
   "source": []
  }
 ],
 "metadata": {
  "kernelspec": {
   "display_name": "envo",
   "language": "python",
   "name": "python3"
  },
  "language_info": {
   "codemirror_mode": {
    "name": "ipython",
    "version": 3
   },
   "file_extension": ".py",
   "mimetype": "text/x-python",
   "name": "python",
   "nbconvert_exporter": "python",
   "pygments_lexer": "ipython3",
   "version": "3.11.8"
  }
 },
 "nbformat": 4,
 "nbformat_minor": 2
}
